{
 "cells": [
  {
   "cell_type": "markdown",
   "metadata": {},
   "source": [
    "## PSF quantification script\n",
    "\n",
    "<details>\n",
    "  <summary>>>Click to expand</summary>\n",
    "    \n",
    "Written by Nicholas Sofroniew, modified by Adam Glaser & Kevin Bishop\n",
    "\n",
    "This script computes the average PSF size from a volume of diffraction limited beads for the purposes of characterizing microscope resolution.\n",
    "\n",
    "Usage: A relatively small (~1mm^3 or less) data volume should be collected, ensuring SBR is moderately high (50 - 100x). The volume should be fused as a TIFF stack (16 bit, no downsampling, one channel per stack) sliced along the XY (highest resolution) plane. To achieve this, open the hdf5 dataset in BigStitcher, *Multiview > right-click > Interactively reorient sample...* Press *shift + Y* to orient the sample view in the XY (highest resolution) plane and click *Apply tranformation*. Define a bounding box (to fuse a subvolume if the dataset is large) and fuse to a compressed TIFF stack. Finally open the TIFF stack in FIJI (import as virtual stack for faster loading). Confirm that each single image shows the XY plane - the PSF should look circular and symmetric, not stretched. Click *Image > properties* and note the pixel sampling (width / height / depth; should all be the same) to input below.\n",
    "\n",
    "Note: the script may take several hours to run (it will appear stuck on 'getting centers | Smoothing...')\n",
    "\n",
    "**Coordinate convention**\n",
    "\n",
    "*This is my current understanding, but the results don't fully make sense (Y res better than X res)*\n",
    "\n",
    "    X: tile width (i.e. control code Y)\n",
    "\n",
    "    Y: scan direction (i.e. control code X)\n",
    "\n",
    "    Z: gravity direction (i.e. control code Z)\n",
    "    \n",
    "**Note on colormaps**\n",
    "\n",
    "Heatmaps are colored using the [vik colormap](https://www.fabiocrameri.ch/colourmaps/) by Fabio Crameri, available as a python package via pip: ```pip install cmcrameri```. This is scientific colormap which is perceptually uniform and ordered, and is color-vision-deficiency friendly. The colormap is diverging and centered about the median PSF size. In other words, red colors indicate PSFs *larger* than the median while blue colors indicate PSFs *smaller* than the median, with color intensity indicating how far the value is from the median.\n",
    "\n",
    "<details>\n"
   ]
  },
  {
   "cell_type": "markdown",
   "metadata": {},
   "source": [
    "## Setup environment"
   ]
  },
  {
   "cell_type": "code",
   "execution_count": null,
   "metadata": {
    "collapsed": true
   },
   "outputs": [],
   "source": [
    "import os\n",
    "import numpy as np\n",
    "import json\n",
    "from skimage.io import imread\n",
    "from skimage.io import imsave\n",
    "from psf import compute\n",
    "%matplotlib notebook\n",
    "import matplotlib.pyplot as plt\n",
    "\n",
    "import matplotlib as mpl\n",
    "from matplotlib.colors import ListedColormap\n",
    "\n",
    "from cmcrameri import cm\n",
    "import pandas\n",
    "import warnings\n",
    "import time\n",
    "\n"
   ]
  },
  {
   "cell_type": "markdown",
   "metadata": {},
   "source": [
    "## Define plotting style"
   ]
  },
  {
   "cell_type": "code",
   "execution_count": null,
   "metadata": {
    "collapsed": true
   },
   "outputs": [],
   "source": [
    "# run this line regardless to reset any prior styles\n",
    "plt.style.use('default')\n",
    "\n",
    "# run this line for inline display\n",
    "plt.style.use('./styles/display.mplstyle')\n",
    "\n",
    "# run this line to save for paper display\n",
    "#plt.style.use('./styles/nat_prot_heat.mplstyle')"
   ]
  },
  {
   "cell_type": "markdown",
   "metadata": {},
   "source": [
    "## Define plotting functions"
   ]
  },
  {
   "cell_type": "code",
   "execution_count": null,
   "metadata": {
    "collapsed": true
   },
   "outputs": [],
   "source": [
    "def plot_scatter(h_ax,\n",
    "                 v_ax,\n",
    "                 save_name,\n",
    "                 data_in,\n",
    "                 save_plot=True,\n",
    "                 h_label='',\n",
    "                 v_label='',\n",
    "                 plot_title=''):\n",
    "    \n",
    "    # plot data\n",
    "    fig, ax = plt.subplots()\n",
    "    plt.scatter(data_in[h_ax]*sampling,\n",
    "                data_in[v_ax],\n",
    "                marker='.')\n",
    "    \n",
    "    # update labels\n",
    "    if h_label == '':\n",
    "        h_label = h_ax + ' (μm)'\n",
    "    plt.xlabel(h_label)\n",
    "\n",
    "    if v_label == '':\n",
    "        v_label = v_ax + ' (μm)'\n",
    "    plt.ylabel(v_label)\n",
    "    \n",
    "    plt.title(plot_title)\n",
    "\n",
    "    plt.ylim(bottom=0)\n",
    "    \n",
    "    # save plot\n",
    "    if save_plot:\n",
    "        print('Saving plot')\n",
    "        plt.savefig(os.path.join(data_base_path,save_name))\n",
    "    else:\n",
    "        print('Plot NOT saved!')\n",
    "        \n",
    "    return fig, ax\n",
    "\n",
    "def plot_histo(h_ax,\n",
    "               h_max_lim,\n",
    "               save_name,\n",
    "               data_in,\n",
    "               anno='',\n",
    "               save_plot=True,\n",
    "               h_label='',\n",
    "               v_label='',\n",
    "               percentile_lim=[0.1,99.9]):\n",
    "    \n",
    "    \n",
    "    # drop data outside percentile limits. To disable, set percentile_lim=[0,100]\n",
    "    min_cutoff = np.percentile(data_in[h_ax],percentile_lim[0])\n",
    "    max_cutoff = np.percentile(data_in[h_ax],percentile_lim[1])\n",
    "    data_in = data_in.drop(data_in[(data_in[h_ax] < min_cutoff) | (data_in[h_ax] > max_cutoff)].index)\n",
    "\n",
    "    # plot data\n",
    "    fig, ax = plt.subplots()\n",
    "    bins = np.linspace(0, h_max_lim, 31)\n",
    "    plt.hist(data_in[h_ax], bins = bins, edgecolor = 'black',linewidth=0.5)\n",
    "    \n",
    "    # update labels\n",
    "    if h_label == '':\n",
    "        h_label = h_ax + ' (μm)'\n",
    "    plt.xlabel(h_label)\n",
    "    \n",
    "    if v_label == '':\n",
    "        v_label = 'N'\n",
    "    plt.ylabel(v_label)\n",
    "    \n",
    "    data_med = round(np.median(data_in[h_ax]),3)\n",
    "    data_std = round(np.std(data_in[h_ax]),3)\n",
    "    \n",
    "    plt.title(r'Median = ' + str(data_med) + r' μm   Stand. Dev. = ' + \n",
    "              str(data_std) + ' μm')\n",
    "    \n",
    "    # add annotation\n",
    "    plt.annotate(anno, xy=(0.0*plt.xlim()[1], 0.9*plt.ylim()[1]))\n",
    "    \n",
    "    # save plot\n",
    "    if save_plot:\n",
    "        print('Saving plot')\n",
    "        plt.savefig(os.path.join(data_base_path,save_name))\n",
    "    else:\n",
    "        print('Plot NOT saved!')\n",
    "    \n",
    "    return fig, ax\n",
    "\n",
    "def plot_scatter_heat(h_ax,\n",
    "                      v_ax,\n",
    "                      color_ax,\n",
    "                      save_name,\n",
    "                      data_in,\n",
    "                      save_plot=True,\n",
    "                      h_label='',\n",
    "                      v_label='',\n",
    "                      c_label='',\n",
    "                      plot_title='',\n",
    "                      clim=[],\n",
    "                      xlim=[],\n",
    "                      ylim=[],\n",
    "                      xticks=[],\n",
    "                      yticks=[],\n",
    "                      percentile_lim=[0.1,99.9],\n",
    "                      base_map='',\n",
    "                      equal=False\n",
    "                     ):\n",
    "    \n",
    "    \n",
    "    if base_map == '':\n",
    "        # to use built-in colormaps, uncomment line below\n",
    "        base_map = mpl.colormaps['coolwarm']\n",
    "        # base_map = cm.batlow\n",
    "    \n",
    "    # drop data outside percentile limits. To disable, set percentile_lim=[0,100]\n",
    "    min_cutoff = np.percentile(data_in[color_ax],percentile_lim[0])\n",
    "    max_cutoff = np.percentile(data_in[color_ax],percentile_lim[1])\n",
    "    data_in = data_in.drop(data_in[(data_in[color_ax] < min_cutoff) | (data_in[color_ax] > max_cutoff)].index)\n",
    "\n",
    "    # use autoscaled colormap (recommended)\n",
    "    if clim == []:\n",
    "\n",
    "        # find colormap range to center map at median data value\n",
    "        med_val = np.median(data_in[color_ax])\n",
    "        max_val = np.max(data_in[color_ax])\n",
    "        min_val = np.min(data_in[color_ax])        \n",
    "\n",
    "        reach = np.max([max_val - med_val, med_val - min_val])\n",
    "\n",
    "        cmap_lower = 0.5 - 0.5*(med_val-min_val)/reach\n",
    "        cmap_upper = 0.5 + 0.5*(max_val-med_val)/reach\n",
    "        cmap_nsteps = int((cmap_upper - cmap_lower)*256)\n",
    "\n",
    "        if(cmap_nsteps < 128):\n",
    "            warnings.warn('Autoscaled colormap is significantly truncated - specify explicit clim')\n",
    "            \n",
    "        # truncate colormap to new range\n",
    "        cmap_full = base_map\n",
    "        cmp = ListedColormap(cmap_full(np.linspace(cmap_lower, cmap_upper, cmap_nsteps)))\n",
    "    \n",
    "    # use explicitly definied colormap range\n",
    "    else:\n",
    "        cmp = base_map\n",
    "            \n",
    "    # plot data\n",
    "    fig,ax = plt.subplots()\n",
    "    if equal:\n",
    "        ax.set_aspect('equal')\n",
    "\n",
    "    #fig = plt.figure()\n",
    "    #ax = fig.add_axes([0.1,0.1,0.8,0.8])\n",
    "    plt.scatter(data_in[h_ax]*sampling,\n",
    "                data_in[v_ax]*sampling,\n",
    "                marker='.',\n",
    "                c=data_in[color_ax],\n",
    "                cmap=cmp)\n",
    "    cbar = plt.colorbar(format='%0.1f')\n",
    "    \n",
    "    # use explicitly definied colormap range\n",
    "    if not clim == []:\n",
    "        plt.clim(clim)\n",
    "        \n",
    "    # update labels\n",
    "    if c_label == '':\n",
    "        c_label = color_ax + ' (μm)'\n",
    "    cbar.set_label(c_label)\n",
    "    \n",
    "    if h_label == '':\n",
    "        h_label = h_ax + ' (μm)'\n",
    "    plt.xlabel(h_label)\n",
    "\n",
    "    if v_label == '':\n",
    "        v_label = v_ax + ' (μm)'\n",
    "    plt.ylabel(v_label)\n",
    "        \n",
    "    plt.title(plot_title)\n",
    "    \n",
    "    # set axis bounds\n",
    "    if xlim != []:\n",
    "        plt.xlim(xlim)\n",
    "    if ylim != []:\n",
    "        plt.ylim(ylim)\n",
    "    if xticks != []:\n",
    "        ax.xaxis.set_ticks(xticks)\n",
    "    if yticks != []:\n",
    "        ax.yaxis.set_ticks(yticks)\n",
    "\n",
    "    # save plot\n",
    "    if save_plot:\n",
    "        print('Saving plot')\n",
    "        plt.savefig(os.path.join(data_base_path,save_name))\n",
    "    else:\n",
    "        print('Plot NOT saved!')\n",
    "    \n",
    "    return fig, ax\n"
   ]
  },
  {
   "cell_type": "markdown",
   "metadata": {},
   "source": [
    "## Define parameters"
   ]
  },
  {
   "cell_type": "code",
   "execution_count": null,
   "metadata": {
    "collapsed": true
   },
   "outputs": [],
   "source": [
    "sampling = 0.2454022 # um/px - see instructions above\n",
    "wavelength = 638.0 # nm\n",
    "NA = 0.4 * 1.56 # approximate collection NA\n",
    "bead_size = 0.150 # um\n",
    "windowUm = [8, 4, 4] # um - generally a few times the expected resolution. Too big may slow down script, \n",
    "                     # too small may truncate PSFs.\n",
    "\n",
    "options = {'pxPerUmLat':1.0/sampling,\n",
    "           'pxPerUmAx':1.0/sampling,\n",
    "           'wavelength':wavelength,\n",
    "           'NA':NA,\n",
    "           'bead_size':bead_size,\n",
    "           'windowUm':windowUm,\n",
    "           'thresh':0.1}\n",
    "#options['thresh'] = 0.1\n",
    "\n",
    "# tif stack should be placed in its own directory\n",
    "data_base_path = 'H:\\Kevin\\odo_test_10-10-22'\n",
    "tiff_name = 'fused_tp_0_ch_0.tif'"
   ]
  },
  {
   "attachments": {
    "file_path_example.PNG": {
     "image/png": "[encoded data removed]"
    }
   },
   "cell_type": "markdown",
   "metadata": {},
   "source": [
    "**Example:**\n",
    "\n",
    "\n",
    "<div>\n",
    "<img src=\"attachment:file_path_example.PNG\" width=\"700\"/>\n",
    "</div>"
   ]
  },
  {
   "cell_type": "markdown",
   "metadata": {},
   "source": [
    "## Compute PSFs\n",
    "Run this cell to generate new PSF data (may take several hours to run)"
   ]
  },
  {
   "cell_type": "code",
   "execution_count": null,
   "metadata": {
    "scrolled": false
   },
   "outputs": [],
   "source": [
    "try: data\n",
    "except NameError:\n",
    "    print('Computing PSFs data')\n",
    "    \n",
    "    start = time.time()\n",
    "    \n",
    "    tiff_path = os.path.join(data_base_path,tiff_name)\n",
    "    im = imread(tiff_path, plugin='tifffile')\n",
    "    data, smoothed = compute(im, options)\n",
    "    \n",
    "    end = time.time()\n",
    "    hours, rem = divmod(end-start, 3600)\n",
    "    minutes, seconds = divmod(rem, 60)\n",
    "    print(\"Execution time: {:0>2}hrs {:0>2}mins {:05.2f}secs\".format(int(hours),int(minutes),seconds))\n",
    "    \n",
    "else: print('Error data is already defined! Delete \\'data\\' variable (\\'del data\\') and try again')\n"
   ]
  },
  {
   "cell_type": "markdown",
   "metadata": {},
   "source": [
    "## Load PSF data\n",
    "Run this cell to load saved PSF data (that has been previously generated by this script)"
   ]
  },
  {
   "cell_type": "code",
   "execution_count": null,
   "metadata": {
    "scrolled": false
   },
   "outputs": [],
   "source": [
    "try: data\n",
    "except NameError:\n",
    "    print('Loading data')\n",
    "    data = pandas.read_csv(os.path.join(data_base_path,'PSF_data.csv'), delimiter=',')\n",
    "    print('Done')\n",
    "else: print('Error data is already defined! Delete \\'data\\' variable (\\'del data\\') and try again')\n"
   ]
  },
  {
   "cell_type": "markdown",
   "metadata": {},
   "source": [
    "## Plot PSF stats"
   ]
  },
  {
   "cell_type": "code",
   "execution_count": null,
   "metadata": {
    "scrolled": false
   },
   "outputs": [],
   "source": [
    "h_ax = 'x_center'\n",
    "h_label = 'X position (μm)'\n",
    "\n",
    "v_ax = 'FWHM_x'\n",
    "v_label = 'FWHM X (μm)'\n",
    "\n",
    "save_name = 'x_depth_plot.pdf'\n",
    "\n",
    "plot_scatter(h_ax,\n",
    "             v_ax,\n",
    "             save_name,\n",
    "             data,\n",
    "             save_plot=False,\n",
    "             h_label=h_label,\n",
    "             v_label=v_label,)"
   ]
  },
  {
   "cell_type": "code",
   "execution_count": null,
   "metadata": {
    "scrolled": false
   },
   "outputs": [],
   "source": [
    "h_ax = 'x_center'\n",
    "h_label = 'X position (μm)'\n",
    "\n",
    "v_ax = 'FWHM_y'\n",
    "v_label = 'FWHM Y (μm)'\n",
    "\n",
    "save_name = 'y_depth_plot.pdf'\n",
    "\n",
    "plot_scatter(h_ax,\n",
    "             v_ax,\n",
    "             save_name,\n",
    "             data,\n",
    "             save_plot=False,\n",
    "             h_label=h_label,\n",
    "             v_label=v_label,)"
   ]
  },
  {
   "cell_type": "code",
   "execution_count": null,
   "metadata": {},
   "outputs": [],
   "source": [
    "h_ax = 'z_center'\n",
    "h_label = 'Z position (μm)'\n",
    "\n",
    "v_ax = 'FWHM_z'\n",
    "v_label = 'FWHM Z (μm)'\n",
    "\n",
    "save_name = 'z_depth_plot.pdf'\n",
    "\n",
    "plot_scatter(h_ax,\n",
    "             v_ax,\n",
    "             save_name,\n",
    "             data,\n",
    "             save_plot=False,\n",
    "             h_label=h_label,\n",
    "             v_label=v_label,)"
   ]
  },
  {
   "cell_type": "code",
   "execution_count": null,
   "metadata": {},
   "outputs": [],
   "source": [
    "# plot only one tile\n",
    "# NOTE: tile boundaries must be manually adjusted based on plot above\n",
    "\n",
    "tile_min = 62\n",
    "tile_max = 104\n",
    "\n",
    "data_one_tile = data[(data['z_center']*sampling > tile_min) & (data['z_center']*sampling < tile_max)] \n",
    "data_one_tile['z_center'] -= tile_min/sampling\n",
    "\n",
    "h_ax = 'z_center'\n",
    "h_label = 'Z position (μm)'\n",
    "\n",
    "v_ax = 'FWHM_z'\n",
    "v_label = 'FWHM Z (μm)'\n",
    "\n",
    "save_name = 'z_depth_plot_single_tile.pdf'\n",
    "title_string = 'Single tile, Z = ' + str(tile_min) + ' to ' + str(tile_max)\n",
    "\n",
    "plot_scatter(h_ax,\n",
    "             v_ax,\n",
    "             save_name,\n",
    "             data_one_tile,\n",
    "             save_plot=False,\n",
    "             plot_title=title_string,\n",
    "             h_label=h_label,\n",
    "             v_label=v_label,)\n"
   ]
  },
  {
   "cell_type": "code",
   "execution_count": null,
   "metadata": {
    "scrolled": false
   },
   "outputs": [],
   "source": [
    "h_ax = 'x_center'\n",
    "h_label = 'X position (μm)'\n",
    "\n",
    "v_ax = 'z_center'\n",
    "v_label = 'Z position (μm)'\n",
    "\n",
    "color_ax = 'FWHM_z'\n",
    "c_label = 'FWHM Z (μm)'\n",
    "\n",
    "save_name = 'defocused_xy-z_heat_plot_single_tile.pdf'\n",
    "plot_scatter_heat(h_ax,\n",
    "                  v_ax,\n",
    "                  color_ax,\n",
    "                  save_name,\n",
    "                  data,\n",
    "                  save_plot=False,\n",
    "                  clim=[0,5],\n",
    "                  plot_title='Axial resolution',\n",
    "                  h_label=h_label,\n",
    "                  v_label=v_label,\n",
    "                  c_label=c_label,\n",
    "                  base_map = mpl.colormaps['coolwarm'],\n",
    "                 )\n"
   ]
  },
  {
   "cell_type": "code",
   "execution_count": null,
   "metadata": {
    "scrolled": false
   },
   "outputs": [],
   "source": [
    "#plt.style.use('./styles/nat_prot_histo.mplstyle')\n",
    "\n",
    "#### LATERAL ####\n",
    "\n",
    "h_ax = 'x_center'\n",
    "h_label = 'X position (μm)'\n",
    "\n",
    "v_ax = 'z_center'\n",
    "v_label = 'Z position (μm)'\n",
    "\n",
    "color_ax = 'FWHM_x'\n",
    "c_label = 'FWHM X (μm)'\n",
    "\n",
    "#title_string = 'Single tile, Z = ' + str(tile_min) + ' to ' + str(tile_max)\n",
    "title_string = 'Lateral resolution'\n",
    "\n",
    "save_name = 'well-aligned_lateral_heat_plot_set-cool_warm.pdf'\n",
    "plot_scatter_heat(h_ax,\n",
    "                  v_ax,\n",
    "                  color_ax,\n",
    "                  save_name,\n",
    "                  data_one_tile,\n",
    "                  save_plot=True,\n",
    "                  clim=[0,5],\n",
    "                  h_label=h_label,\n",
    "                  v_label=v_label,\n",
    "                  c_label=c_label,\n",
    "                  plot_title=title_string,\n",
    "                  #xlim=[0,None],\n",
    "                  #ylim=[0,None],\n",
    "                  #percentile_lim=[0,100]\n",
    "                  #yticks = [0, 200, 400, 600],\n",
    "                  mpl.colormaps['coolwarm'],\n",
    "                 )\n"
   ]
  },
  {
   "cell_type": "code",
   "execution_count": null,
   "metadata": {
    "scrolled": false
   },
   "outputs": [],
   "source": [
    "#### AXIAL ####\n",
    "\n",
    "h_ax = 'x_center'\n",
    "h_label = 'X position (μm)'\n",
    "\n",
    "v_ax = 'z_center'\n",
    "v_label = 'Z position (μm)'\n",
    "\n",
    "color_ax = 'FWHM_z'\n",
    "c_label = 'FWHM Z (μm)'\n",
    "\n",
    "#title_string = 'Single tile, Z = ' + str(tile_min) + ' to ' + str(tile_max)\n",
    "title_string = 'Axial resolution'\n",
    "\n",
    "save_name = 'well-aligned_axial_heat_plot_set-cool_warm.pdf'\n",
    "plot_scatter_heat(h_ax,\n",
    "                  v_ax,\n",
    "                  color_ax,\n",
    "                  save_name,\n",
    "                  data_one_tile,\n",
    "                  save_plot=True,\n",
    "                  clim=[0,7],\n",
    "                  h_label=h_label,\n",
    "                  v_label=v_label,\n",
    "                  c_label=c_label,\n",
    "                  plot_title=title_string,\n",
    "                  #xlim=[0,None],\n",
    "                  #ylim=[0,None],\n",
    "                  #percentile_lim=[0,100],\n",
    "                  mpl.colormaps['coolwarm'],\n",
    "                 )"
   ]
  },
  {
   "cell_type": "code",
   "execution_count": null,
   "metadata": {
    "scrolled": false
   },
   "outputs": [],
   "source": [
    "plt.style.use('./styles/nat_prot_histo.mplstyle')\n",
    "\n",
    "h_ax = 'FWHM_x'\n",
    "h_label = 'FWHM X (μm)'\n",
    "v_label = 'Number of beads'\n",
    "h_max_lim = 2.5\n",
    "save_name = 'x_histo.pdf'\n",
    "\n",
    "plot_histo(h_ax,\n",
    "           h_max_lim,\n",
    "           save_name,\n",
    "           data,\n",
    "           save_plot=False,\n",
    "           h_label=h_label,\n",
    "           v_label=v_label,\n",
    "           percentile_lim=[1,99]\n",
    "          )"
   ]
  },
  {
   "cell_type": "code",
   "execution_count": null,
   "metadata": {},
   "outputs": [],
   "source": [
    "h_ax = 'FWHM_y'\n",
    "h_label = 'FWHM Y (μm)'\n",
    "h_max_lim = 4.0\n",
    "save_name = 'y_histo.pdf'\n",
    "\n",
    "plot_histo(h_ax,\n",
    "           h_max_lim,\n",
    "           save_name,\n",
    "           data,\n",
    "           save_plot=True,\n",
    "           h_label=h_label)"
   ]
  },
  {
   "cell_type": "code",
   "execution_count": null,
   "metadata": {
    "scrolled": false
   },
   "outputs": [],
   "source": [
    "h_ax = 'FWHM_z'\n",
    "h_label = 'FWHM Z (μm)'\n",
    "h_max_lim = 6.0\n",
    "save_name = 'z_histo.pdf'\n",
    "\n",
    "plot_histo(h_ax,\n",
    "           h_max_lim,\n",
    "           save_name,\n",
    "           data,\n",
    "           save_plot=True,\n",
    "           h_label=h_label)"
   ]
  },
  {
   "cell_type": "code",
   "execution_count": null,
   "metadata": {},
   "outputs": [],
   "source": [
    "# plot single tile only (defined above)\n",
    "h_ax = 'FWHM_z'\n",
    "h_label = 'FWHM Z (μm)'\n",
    "h_max_lim = 6.0\n",
    "save_name = 'z_histo_single_tile.pdf'\n",
    "anno_string = 'Single tile, Z = ' + str(tile_min) + ' to ' + str(tile_max)\n",
    "\n",
    "plot_histo(h_ax,\n",
    "           h_max_lim,\n",
    "           save_name,\n",
    "           data_one_tile,\n",
    "           anno=anno_string,\n",
    "           save_plot=True,\n",
    "           h_label=h_label)\n"
   ]
  },
  {
   "cell_type": "markdown",
   "metadata": {},
   "source": [
    "***\n",
    "***\n",
    "*The rest of the script cannot be run with loaded (previously computed) data as the complete PSFs are not stored. To run the below sections, the PSFs must be recomputed from the raw data (above)*\n",
    "\n",
    "## Plot average PSFs (slices)\n",
    "Use caution when interpreting average PSFs - some aberrations will distort the PSFs in opposite ways at each side of the field of view, etc. For instance, if a PSF stretches to have an upward tail at the left side of the FOV and a downward tail at the right side of the FOV, the average PSF would still look symmetric (as these distortions would cancel each other out)."
   ]
  },
  {
   "cell_type": "code",
   "execution_count": null,
   "metadata": {
    "scrolled": false
   },
   "outputs": [],
   "source": [
    "average_psf = np.zeros(data['bead'][0].shape)\n",
    "for i in range (data['bead'].shape[0]):\n",
    "    average_psf = average_psf + data['bead'][i]\n",
    "\n",
    "average_psf = average_psf/data['bead'].shape\n",
    "print(average_psf.shape)\n",
    "fig, axs = plt.subplots(1,3)\n",
    "\n",
    "XY = average_psf[int(average_psf.shape[0]/2),:,:]\n",
    "YZ = average_psf[:,int(average_psf.shape[1]/2),:]\n",
    "XZ = average_psf[:,:,int(average_psf.shape[2]/2)]\n",
    "\n",
    "axs[0].imshow(XY, vmin = 0, vmax = 1, cmap='gray');\n",
    "axs[0].axis('off');\n",
    "axs[0].set_title('XY')\n",
    "\n",
    "axs[1].imshow(YZ, vmin = 0, vmax = 1, cmap='gray');\n",
    "axs[1].axis('off');\n",
    "axs[1].set_title('YZ')\n",
    "\n",
    "axs[2].imshow(XZ, vmin = 0, vmax = 1, cmap='gray');\n",
    "axs[2].axis('off');\n",
    "axs[2].set_title('XZ')\n",
    "\n"
   ]
  },
  {
   "cell_type": "code",
   "execution_count": null,
   "metadata": {
    "collapsed": true
   },
   "outputs": [],
   "source": [
    "save_path = os.path.join(data_base_path, 'XZ.tif')\n",
    "if not os.path.exists(save_path):\n",
    "    imsave(save_path,(XZ*255).astype('uint8'))\n",
    "else:\n",
    "    raise Exception('File already exists')\n",
    "    \n",
    "save_path = os.path.join(data_base_path, 'YZ.tif')\n",
    "if not os.path.exists(save_path):\n",
    "    imsave(save_path,(YZ*255).astype('uint8'))\n",
    "else:\n",
    "    raise Exception('File already exists')\n",
    "    \n",
    "save_path = os.path.join(data_base_path, 'XY.tif')\n",
    "if not os.path.exists(save_path):\n",
    "    imsave(save_path,(XY*255).astype('uint8'))\n",
    "else:\n",
    "    raise Exception('File already exists')"
   ]
  },
  {
   "cell_type": "markdown",
   "metadata": {},
   "source": [
    "## Save raw data"
   ]
  },
  {
   "cell_type": "code",
   "execution_count": null,
   "metadata": {
    "collapsed": true
   },
   "outputs": [],
   "source": [
    "save_path = os.path.join(data_base_path, 'PSF_data.csv')\n",
    "if not os.path.exists(save_path):\n",
    "    data.to_csv(os.path.join(data_base_path, 'PSF_data.csv'))\n",
    "else:\n",
    "    raise Exception('File already exists')"
   ]
  },
  {
   "cell_type": "markdown",
   "metadata": {},
   "source": [
    "## Plot max projection of bead locations"
   ]
  },
  {
   "cell_type": "code",
   "execution_count": null,
   "metadata": {
    "scrolled": false
   },
   "outputs": [],
   "source": [
    "plt.subplots()\n",
    "plt.imshow(smoothed, vmin = 0, vmax = 10000, cmap='gray');\n",
    "plt.plot(data['x_center'], data['y_center'], 'r.', ms=5);\n",
    "\n",
    "# uncomment below to zoom in on plot\n",
    "# plt.xlim([0, 0+smoothed.shape[0]/4])\n",
    "# plt.ylim([smoothed.shape[1]/4, 500])\n",
    "plt.axis('off');"
   ]
  },
  {
   "cell_type": "markdown",
   "metadata": {},
   "source": [
    "## Plot average PSFs (projections)"
   ]
  },
  {
   "cell_type": "code",
   "execution_count": null,
   "metadata": {},
   "outputs": [],
   "source": [
    "plt.subplots()\n",
    "plt.imshow(average_psf.mean(axis=0));\n",
    "plt.axis('off');"
   ]
  },
  {
   "cell_type": "code",
   "execution_count": null,
   "metadata": {},
   "outputs": [],
   "source": [
    "plt.subplots()\n",
    "plt.imshow(average_psf.mean(axis=1), aspect = options['pxPerUmLat']/options['pxPerUmAx']);\n",
    "plt.axis('off');"
   ]
  },
  {
   "cell_type": "code",
   "execution_count": null,
   "metadata": {},
   "outputs": [],
   "source": [
    "plt.subplots()\n",
    "plt.imshow(average_psf.mean(axis=2), aspect = options['pxPerUmLat']/options['pxPerUmAx']);\n",
    "plt.axis('off');"
   ]
  }
 ],
 "metadata": {
  "anaconda-cloud": {},
  "kernelspec": {
   "display_name": "Python 3",
   "language": "python",
   "name": "python3"
  },
  "language_info": {
   "codemirror_mode": {
    "name": "ipython",
    "version": 3
   },
   "file_extension": ".py",
   "mimetype": "text/x-python",
   "name": "python",
   "nbconvert_exporter": "python",
   "pygments_lexer": "ipython3",
   "version": "3.6.1"
  }
 },
 "nbformat": 4,
 "nbformat_minor": 1
}
